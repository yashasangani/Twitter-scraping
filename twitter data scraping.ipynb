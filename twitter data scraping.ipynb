{
 "cells": [
  {
   "cell_type": "markdown",
   "id": "0bcd8602",
   "metadata": {},
   "source": [
    "# Twitter Data Scraping"
   ]
  },
  {
   "cell_type": "code",
   "execution_count": 1,
   "id": "773eba34",
   "metadata": {},
   "outputs": [
    {
     "name": "stdout",
     "output_type": "stream",
     "text": [
      "3.11.7\n"
     ]
    }
   ],
   "source": [
    "import platform\n",
    "print(platform.python_version())"
   ]
  },
  {
   "cell_type": "code",
   "execution_count": 2,
   "id": "54877e35",
   "metadata": {},
   "outputs": [
    {
     "name": "stdout",
     "output_type": "stream",
     "text": [
      "Requirement already satisfied: ntscraper in /opt/anaconda3/lib/python3.11/site-packages (0.3.13)\n",
      "Requirement already satisfied: requests in /opt/anaconda3/lib/python3.11/site-packages (from ntscraper) (2.31.0)\n",
      "Requirement already satisfied: beautifulsoup4 in /opt/anaconda3/lib/python3.11/site-packages (from ntscraper) (4.12.2)\n",
      "Requirement already satisfied: lxml in /opt/anaconda3/lib/python3.11/site-packages (from ntscraper) (4.9.3)\n",
      "Requirement already satisfied: soupsieve>1.2 in /opt/anaconda3/lib/python3.11/site-packages (from beautifulsoup4->ntscraper) (2.5)\n",
      "Requirement already satisfied: charset-normalizer<4,>=2 in /opt/anaconda3/lib/python3.11/site-packages (from requests->ntscraper) (2.0.4)\n",
      "Requirement already satisfied: idna<4,>=2.5 in /opt/anaconda3/lib/python3.11/site-packages (from requests->ntscraper) (3.4)\n",
      "Requirement already satisfied: urllib3<3,>=1.21.1 in /opt/anaconda3/lib/python3.11/site-packages (from requests->ntscraper) (2.0.7)\n",
      "Requirement already satisfied: certifi>=2017.4.17 in /opt/anaconda3/lib/python3.11/site-packages (from requests->ntscraper) (2024.2.2)\n",
      "Note: you may need to restart the kernel to use updated packages.\n"
     ]
    }
   ],
   "source": [
    "\n",
    "pip install ntscraper"
   ]
  },
  {
   "cell_type": "code",
   "execution_count": 3,
   "id": "b9e4801f",
   "metadata": {},
   "outputs": [
    {
     "name": "stderr",
     "output_type": "stream",
     "text": [
      "Testing instances: 100%|████████████████████████| 77/77 [02:12<00:00,  1.72s/it]\n"
     ]
    }
   ],
   "source": [
    "import pandas as pd\n",
    "\n",
    "from ntscraper import Nitter\n",
    "scraper = Nitter()"
   ]
  },
  {
   "cell_type": "code",
   "execution_count": 5,
   "id": "500381f2",
   "metadata": {},
   "outputs": [
    {
     "name": "stdout",
     "output_type": "stream",
     "text": [
      "24-May-24 10:45:19 - No instance specified, using random instance https://nitter.privacydev.net\n",
      "24-May-24 10:45:24 - Current stats for imVkohli: 5 tweets, 0 threads...\n"
     ]
    }
   ],
   "source": [
    "tweets = scraper.get_tweets('imVkohli',mode = 'user',number =5)"
   ]
  },
  {
   "cell_type": "code",
   "execution_count": 8,
   "id": "4259065a",
   "metadata": {},
   "outputs": [],
   "source": [
    "final_tweets=[]\n",
    "for tweet in tweets[\"tweets\"]:\n",
    "    data = [tweet['link'],tweet['text'],tweet['date'],tweet['stats']['likes'],tweet['stats']['comments']]\n",
    "    final_tweets.append(data)"
   ]
  },
  {
   "cell_type": "code",
   "execution_count": 10,
   "id": "4e717a34",
   "metadata": {},
   "outputs": [],
   "source": [
    "data = pd.DataFrame(final_tweets,columns = [\"link\",\"text\",\"date\",\"no_of_likes\",\"no_of_tweets\"])"
   ]
  },
  {
   "cell_type": "code",
   "execution_count": 11,
   "id": "74127d77",
   "metadata": {},
   "outputs": [
    {
     "data": {
      "text/html": [
       "<div>\n",
       "<style scoped>\n",
       "    .dataframe tbody tr th:only-of-type {\n",
       "        vertical-align: middle;\n",
       "    }\n",
       "\n",
       "    .dataframe tbody tr th {\n",
       "        vertical-align: top;\n",
       "    }\n",
       "\n",
       "    .dataframe thead th {\n",
       "        text-align: right;\n",
       "    }\n",
       "</style>\n",
       "<table border=\"1\" class=\"dataframe\">\n",
       "  <thead>\n",
       "    <tr style=\"text-align: right;\">\n",
       "      <th></th>\n",
       "      <th>link</th>\n",
       "      <th>text</th>\n",
       "      <th>date</th>\n",
       "      <th>no_of_likes</th>\n",
       "      <th>no_of_tweets</th>\n",
       "    </tr>\n",
       "  </thead>\n",
       "  <tbody>\n",
       "    <tr>\n",
       "      <th>0</th>\n",
       "      <td>https://twitter.com/imVkohli/status/1787724797...</td>\n",
       "      <td>Watch how I welcome some unwanted visitors thi...</td>\n",
       "      <td>May 7, 2024 · 6:03 AM UTC</td>\n",
       "      <td>18386</td>\n",
       "      <td>869</td>\n",
       "    </tr>\n",
       "    <tr>\n",
       "      <th>1</th>\n",
       "      <td>https://twitter.com/imVkohli/status/1786992005...</td>\n",
       "      <td>Any suggestions on what we can do about him? 😓...</td>\n",
       "      <td>May 5, 2024 · 5:31 AM UTC</td>\n",
       "      <td>3987</td>\n",
       "      <td>111</td>\n",
       "    </tr>\n",
       "    <tr>\n",
       "      <th>2</th>\n",
       "      <td>https://twitter.com/imVkohli/status/1786991981...</td>\n",
       "      <td>The self proclaimed Master of Mischief, is mak...</td>\n",
       "      <td>May 5, 2024 · 5:31 AM UTC</td>\n",
       "      <td>4355</td>\n",
       "      <td>111</td>\n",
       "    </tr>\n",
       "    <tr>\n",
       "      <th>3</th>\n",
       "      <td>https://twitter.com/imVkohli/status/1786991968...</td>\n",
       "      <td>Monster Murphy is at it again.🤦🏼‍♂️ 🔗bit.ly/44...</td>\n",
       "      <td>May 5, 2024 · 5:31 AM UTC</td>\n",
       "      <td>15425</td>\n",
       "      <td>492</td>\n",
       "    </tr>\n",
       "    <tr>\n",
       "      <th>4</th>\n",
       "      <td>https://twitter.com/imVkohli/status/1786290879...</td>\n",
       "      <td>Crafted for you, created by me!  Presenting my...</td>\n",
       "      <td>May 3, 2024 · 7:05 AM UTC</td>\n",
       "      <td>11233</td>\n",
       "      <td>445</td>\n",
       "    </tr>\n",
       "  </tbody>\n",
       "</table>\n",
       "</div>"
      ],
      "text/plain": [
       "                                                link  \\\n",
       "0  https://twitter.com/imVkohli/status/1787724797...   \n",
       "1  https://twitter.com/imVkohli/status/1786992005...   \n",
       "2  https://twitter.com/imVkohli/status/1786991981...   \n",
       "3  https://twitter.com/imVkohli/status/1786991968...   \n",
       "4  https://twitter.com/imVkohli/status/1786290879...   \n",
       "\n",
       "                                                text  \\\n",
       "0  Watch how I welcome some unwanted visitors thi...   \n",
       "1  Any suggestions on what we can do about him? 😓...   \n",
       "2  The self proclaimed Master of Mischief, is mak...   \n",
       "3  Monster Murphy is at it again.🤦🏼‍♂️ 🔗bit.ly/44...   \n",
       "4  Crafted for you, created by me!  Presenting my...   \n",
       "\n",
       "                        date  no_of_likes  no_of_tweets  \n",
       "0  May 7, 2024 · 6:03 AM UTC        18386           869  \n",
       "1  May 5, 2024 · 5:31 AM UTC         3987           111  \n",
       "2  May 5, 2024 · 5:31 AM UTC         4355           111  \n",
       "3  May 5, 2024 · 5:31 AM UTC        15425           492  \n",
       "4  May 3, 2024 · 7:05 AM UTC        11233           445  "
      ]
     },
     "execution_count": 11,
     "metadata": {},
     "output_type": "execute_result"
    }
   ],
   "source": [
    "data"
   ]
  },
  {
   "cell_type": "code",
   "execution_count": 12,
   "id": "e446d021",
   "metadata": {},
   "outputs": [],
   "source": [
    "def get_tweets(name,modes,no):\n",
    "    tweets = scraper.get_tweets(name,mode = modes,number =no)\n",
    "    final_tweets=[]\n",
    "    for tweet in tweets[\"tweets\"]:\n",
    "        data = [tweet['link'],tweet['text'],tweet['date'],tweet['stats']['likes'],tweet['stats']['comments']]\n",
    "        final_tweets.append(data)\n",
    "    data = pd.DataFrame(final_tweets,columns = [\"link\",\"text\",\"date\",\"no_of_likes\",\"no_of_tweets\"])\n",
    "    return data"
   ]
  },
  {
   "cell_type": "code",
   "execution_count": 13,
   "id": "3e2e3e56",
   "metadata": {},
   "outputs": [
    {
     "name": "stdout",
     "output_type": "stream",
     "text": [
      "24-May-24 11:11:00 - No instance specified, using random instance https://nitter.privacydev.net\n",
      "24-May-24 11:11:04 - Current stats for elonmusk: 10 tweets, 0 threads...\n"
     ]
    },
    {
     "data": {
      "text/html": [
       "<div>\n",
       "<style scoped>\n",
       "    .dataframe tbody tr th:only-of-type {\n",
       "        vertical-align: middle;\n",
       "    }\n",
       "\n",
       "    .dataframe tbody tr th {\n",
       "        vertical-align: top;\n",
       "    }\n",
       "\n",
       "    .dataframe thead th {\n",
       "        text-align: right;\n",
       "    }\n",
       "</style>\n",
       "<table border=\"1\" class=\"dataframe\">\n",
       "  <thead>\n",
       "    <tr style=\"text-align: right;\">\n",
       "      <th></th>\n",
       "      <th>link</th>\n",
       "      <th>text</th>\n",
       "      <th>date</th>\n",
       "      <th>no_of_likes</th>\n",
       "      <th>no_of_tweets</th>\n",
       "    </tr>\n",
       "  </thead>\n",
       "  <tbody>\n",
       "    <tr>\n",
       "      <th>0</th>\n",
       "      <td>https://twitter.com/elonmusk/status/1792778957...</td>\n",
       "      <td>Easy to order online in 2 minutes at Starlink....</td>\n",
       "      <td>May 21, 2024 · 4:46 AM UTC</td>\n",
       "      <td>77912</td>\n",
       "      <td>9058</td>\n",
       "    </tr>\n",
       "    <tr>\n",
       "      <th>1</th>\n",
       "      <td>https://twitter.com/elonmusk/status/1793685157...</td>\n",
       "      <td>A lot of social media is bad for kids, as ther...</td>\n",
       "      <td>May 23, 2024 · 4:47 PM UTC</td>\n",
       "      <td>20350</td>\n",
       "      <td>2142</td>\n",
       "    </tr>\n",
       "    <tr>\n",
       "      <th>2</th>\n",
       "      <td>https://twitter.com/elonmusk/status/1793667283...</td>\n",
       "      <td>Trust the collective wisdom of the people</td>\n",
       "      <td>May 23, 2024 · 3:36 PM UTC</td>\n",
       "      <td>31945</td>\n",
       "      <td>2591</td>\n",
       "    </tr>\n",
       "    <tr>\n",
       "      <th>3</th>\n",
       "      <td>https://twitter.com/elonmusk/status/1793664067...</td>\n",
       "      <td>People will die if doctors misdiagnose patients</td>\n",
       "      <td>May 23, 2024 · 3:23 PM UTC</td>\n",
       "      <td>78575</td>\n",
       "      <td>7311</td>\n",
       "    </tr>\n",
       "    <tr>\n",
       "      <th>4</th>\n",
       "      <td>https://twitter.com/megynkelly/status/17930885...</td>\n",
       "      <td>.@BillMaher on Biden's Pandering, Woke Progres...</td>\n",
       "      <td>May 22, 2024 · 1:16 AM UTC</td>\n",
       "      <td>6627</td>\n",
       "      <td>949</td>\n",
       "    </tr>\n",
       "    <tr>\n",
       "      <th>5</th>\n",
       "      <td>https://twitter.com/elonmusk/status/1793549358...</td>\n",
       "      <td></td>\n",
       "      <td>May 23, 2024 · 7:47 AM UTC</td>\n",
       "      <td>45471</td>\n",
       "      <td>2757</td>\n",
       "    </tr>\n",
       "    <tr>\n",
       "      <th>6</th>\n",
       "      <td>https://twitter.com/elonmusk/status/1793540037...</td>\n",
       "      <td>Activists should be removed as judges</td>\n",
       "      <td>May 23, 2024 · 7:10 AM UTC</td>\n",
       "      <td>198302</td>\n",
       "      <td>10247</td>\n",
       "    </tr>\n",
       "    <tr>\n",
       "      <th>7</th>\n",
       "      <td>https://twitter.com/MarioNawfal/status/1793535...</td>\n",
       "      <td>🚨ELON:  COMMUNITY NOTES WILL MAKE X THE MOST T...</td>\n",
       "      <td>May 23, 2024 · 6:53 AM UTC</td>\n",
       "      <td>6690</td>\n",
       "      <td>468</td>\n",
       "    </tr>\n",
       "    <tr>\n",
       "      <th>8</th>\n",
       "      <td>https://twitter.com/elonmusk/status/1793536136...</td>\n",
       "      <td>Asian women earn more than white men</td>\n",
       "      <td>May 23, 2024 · 6:55 AM UTC</td>\n",
       "      <td>119558</td>\n",
       "      <td>6654</td>\n",
       "    </tr>\n",
       "    <tr>\n",
       "      <th>9</th>\n",
       "      <td>https://twitter.com/elonmusk/status/1793535782...</td>\n",
       "      <td>Is suspect this thought has gone through many ...</td>\n",
       "      <td>May 23, 2024 · 6:53 AM UTC</td>\n",
       "      <td>35683</td>\n",
       "      <td>2259</td>\n",
       "    </tr>\n",
       "  </tbody>\n",
       "</table>\n",
       "</div>"
      ],
      "text/plain": [
       "                                                link  \\\n",
       "0  https://twitter.com/elonmusk/status/1792778957...   \n",
       "1  https://twitter.com/elonmusk/status/1793685157...   \n",
       "2  https://twitter.com/elonmusk/status/1793667283...   \n",
       "3  https://twitter.com/elonmusk/status/1793664067...   \n",
       "4  https://twitter.com/megynkelly/status/17930885...   \n",
       "5  https://twitter.com/elonmusk/status/1793549358...   \n",
       "6  https://twitter.com/elonmusk/status/1793540037...   \n",
       "7  https://twitter.com/MarioNawfal/status/1793535...   \n",
       "8  https://twitter.com/elonmusk/status/1793536136...   \n",
       "9  https://twitter.com/elonmusk/status/1793535782...   \n",
       "\n",
       "                                                text  \\\n",
       "0  Easy to order online in 2 minutes at Starlink....   \n",
       "1  A lot of social media is bad for kids, as ther...   \n",
       "2          Trust the collective wisdom of the people   \n",
       "3    People will die if doctors misdiagnose patients   \n",
       "4  .@BillMaher on Biden's Pandering, Woke Progres...   \n",
       "5                                                      \n",
       "6              Activists should be removed as judges   \n",
       "7  🚨ELON:  COMMUNITY NOTES WILL MAKE X THE MOST T...   \n",
       "8               Asian women earn more than white men   \n",
       "9  Is suspect this thought has gone through many ...   \n",
       "\n",
       "                         date  no_of_likes  no_of_tweets  \n",
       "0  May 21, 2024 · 4:46 AM UTC        77912          9058  \n",
       "1  May 23, 2024 · 4:47 PM UTC        20350          2142  \n",
       "2  May 23, 2024 · 3:36 PM UTC        31945          2591  \n",
       "3  May 23, 2024 · 3:23 PM UTC        78575          7311  \n",
       "4  May 22, 2024 · 1:16 AM UTC         6627           949  \n",
       "5  May 23, 2024 · 7:47 AM UTC        45471          2757  \n",
       "6  May 23, 2024 · 7:10 AM UTC       198302         10247  \n",
       "7  May 23, 2024 · 6:53 AM UTC         6690           468  \n",
       "8  May 23, 2024 · 6:55 AM UTC       119558          6654  \n",
       "9  May 23, 2024 · 6:53 AM UTC        35683          2259  "
      ]
     },
     "execution_count": 13,
     "metadata": {},
     "output_type": "execute_result"
    }
   ],
   "source": [
    "get_tweets('elonmusk','user',10)"
   ]
  },
  {
   "cell_type": "code",
   "execution_count": 34,
   "id": "bc984a68",
   "metadata": {},
   "outputs": [
    {
     "name": "stdout",
     "output_type": "stream",
     "text": [
      "24-May-24 11:50:36 - No instance specified, using random instance https://nitter.privacydev.net\n",
      "24-May-24 11:50:41 - Current stats for PuneRoadAccident: 4 tweets, 0 threads...\n",
      "24-May-24 11:50:45 - Current stats for PuneRoadAccident: 10 tweets, 0 threads...\n"
     ]
    }
   ],
   "source": [
    "data=get_tweets('PuneRoadAccident','hashtag',10)"
   ]
  },
  {
   "cell_type": "code",
   "execution_count": 36,
   "id": "99bccec1",
   "metadata": {},
   "outputs": [],
   "source": [
    "data.to_csv('tweets.csv')"
   ]
  },
  {
   "cell_type": "code",
   "execution_count": 38,
   "id": "7e1d5983",
   "metadata": {},
   "outputs": [
    {
     "name": "stdout",
     "output_type": "stream",
     "text": [
      "24-May-24 11:53:52 - No instance specified, using random instance https://nitter.privacydev.net\n"
     ]
    },
    {
     "data": {
      "text/plain": [
       "{'image': 'https://pbs.twimg.com/profile_images/1562753500726976514/EPSUNyR3_400x400.jpg',\n",
       " 'name': 'Virat Kohli',\n",
       " 'username': '@imVkohli',\n",
       " 'id': '',\n",
       " 'bio': 'A proud husband and father ❤️',\n",
       " 'location': '',\n",
       " 'website': 'http://one8.com',\n",
       " 'joined': '7:57 AM - 3 Sep 2009',\n",
       " 'stats': {'tweets': 2942,\n",
       "  'following': 61,\n",
       "  'followers': 63298151,\n",
       "  'likes': 244,\n",
       "  'media': 0}}"
      ]
     },
     "execution_count": 38,
     "metadata": {},
     "output_type": "execute_result"
    }
   ],
   "source": [
    "# get_tweets('PuneRoadAccident','hashtag',10)\n",
    "scraper.get_profile_info(\"imVkohli\")"
   ]
  },
  {
   "cell_type": "code",
   "execution_count": null,
   "id": "609dd8a8",
   "metadata": {},
   "outputs": [],
   "source": []
  }
 ],
 "metadata": {
  "kernelspec": {
   "display_name": "Python 3 (ipykernel)",
   "language": "python",
   "name": "python3"
  },
  "language_info": {
   "codemirror_mode": {
    "name": "ipython",
    "version": 3
   },
   "file_extension": ".py",
   "mimetype": "text/x-python",
   "name": "python",
   "nbconvert_exporter": "python",
   "pygments_lexer": "ipython3",
   "version": "3.11.7"
  }
 },
 "nbformat": 4,
 "nbformat_minor": 5
}
